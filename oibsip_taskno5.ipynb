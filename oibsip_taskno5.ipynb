{
 "cells": [
  {
   "cell_type": "code",
   "execution_count": 1,
   "id": "d9abdfd6",
   "metadata": {
    "execution": {
     "iopub.execute_input": "2023-07-19T16:53:20.737349Z",
     "iopub.status.busy": "2023-07-19T16:53:20.736897Z",
     "iopub.status.idle": "2023-07-19T16:53:20.742187Z",
     "shell.execute_reply": "2023-07-19T16:53:20.741032Z"
    },
    "papermill": {
     "duration": 0.029529,
     "end_time": "2023-07-19T16:53:20.745407",
     "exception": false,
     "start_time": "2023-07-19T16:53:20.715878",
     "status": "completed"
    },
    "tags": []
   },
   "outputs": [],
   "source": [
    "# Oasis Infobyte \n",
    "# Data Science Internship \n",
    "# Task 5 Sales Prediction Using Python\n",
    "# Submitted by - Sahil Sahu "
   ]
  },
  {
   "cell_type": "code",
   "execution_count": 2,
   "id": "6d95461c",
   "metadata": {
    "execution": {
     "iopub.execute_input": "2023-07-19T16:53:20.782336Z",
     "iopub.status.busy": "2023-07-19T16:53:20.781846Z",
     "iopub.status.idle": "2023-07-19T16:53:20.786409Z",
     "shell.execute_reply": "2023-07-19T16:53:20.785479Z"
    },
    "papermill": {
     "duration": 0.025702,
     "end_time": "2023-07-19T16:53:20.788716",
     "exception": false,
     "start_time": "2023-07-19T16:53:20.763014",
     "status": "completed"
    },
    "tags": []
   },
   "outputs": [],
   "source": [
    "# Problem Statement "
   ]
  },
  {
   "cell_type": "code",
   "execution_count": 3,
   "id": "c0f42206",
   "metadata": {
    "execution": {
     "iopub.execute_input": "2023-07-19T16:53:20.827765Z",
     "iopub.status.busy": "2023-07-19T16:53:20.826988Z",
     "iopub.status.idle": "2023-07-19T16:53:20.831928Z",
     "shell.execute_reply": "2023-07-19T16:53:20.830920Z"
    },
    "papermill": {
     "duration": 0.027104,
     "end_time": "2023-07-19T16:53:20.834283",
     "exception": false,
     "start_time": "2023-07-19T16:53:20.807179",
     "status": "completed"
    },
    "tags": []
   },
   "outputs": [],
   "source": [
    "# Sales prediction means predicting how much of a product people will buy based on factors\n",
    "# such as the amount you spend to advertise your product, the segment of people you\n",
    "# advertise for, or the platform you are advertising on about your product.\n",
    "# Typically, a product and service-based business always need their Data Scientist to predict\n",
    "# their future sales with every step they take to manipulate the cost of advertising their\n",
    "# product."
   ]
  },
  {
   "cell_type": "code",
   "execution_count": 4,
   "id": "784fa30a",
   "metadata": {
    "execution": {
     "iopub.execute_input": "2023-07-19T16:53:20.871083Z",
     "iopub.status.busy": "2023-07-19T16:53:20.870666Z",
     "iopub.status.idle": "2023-07-19T16:53:20.875643Z",
     "shell.execute_reply": "2023-07-19T16:53:20.874477Z"
    },
    "papermill": {
     "duration": 0.026134,
     "end_time": "2023-07-19T16:53:20.878217",
     "exception": false,
     "start_time": "2023-07-19T16:53:20.852083",
     "status": "completed"
    },
    "tags": []
   },
   "outputs": [],
   "source": [
    "# Importing Necessary Libraries "
   ]
  },
  {
   "cell_type": "code",
   "execution_count": 5,
   "id": "d7159881",
   "metadata": {
    "execution": {
     "iopub.execute_input": "2023-07-19T16:53:20.914059Z",
     "iopub.status.busy": "2023-07-19T16:53:20.913678Z",
     "iopub.status.idle": "2023-07-19T16:53:22.855634Z",
     "shell.execute_reply": "2023-07-19T16:53:22.854145Z"
    },
    "papermill": {
     "duration": 1.963368,
     "end_time": "2023-07-19T16:53:22.858629",
     "exception": false,
     "start_time": "2023-07-19T16:53:20.895261",
     "status": "completed"
    },
    "tags": []
   },
   "outputs": [],
   "source": [
    "import warnings\n",
    "warnings.filterwarnings(\"ignore\")\n",
    "import pandas as pd \n",
    "import numpy as np \n",
    "import seaborn as sns \n",
    "from sklearn.linear_model import LinearRegression\n",
    "from sklearn.model_selection import train_test_split\n",
    "from sklearn.metrics import mean_squared_error\n",
    "import matplotlib.pyplot as plt\n",
    "import ipywidgets as widgets\n",
    "from sklearn.metrics import mean_absolute_error\n",
    "from IPython.display import display"
   ]
  },
  {
   "cell_type": "code",
   "execution_count": 6,
   "id": "ad8a4d9a",
   "metadata": {
    "execution": {
     "iopub.execute_input": "2023-07-19T16:53:22.894837Z",
     "iopub.status.busy": "2023-07-19T16:53:22.894422Z",
     "iopub.status.idle": "2023-07-19T16:53:22.898906Z",
     "shell.execute_reply": "2023-07-19T16:53:22.898103Z"
    },
    "papermill": {
     "duration": 0.025408,
     "end_time": "2023-07-19T16:53:22.901119",
     "exception": false,
     "start_time": "2023-07-19T16:53:22.875711",
     "status": "completed"
    },
    "tags": []
   },
   "outputs": [],
   "source": [
    "# Importing the Given Dataset "
   ]
  },
  {
   "cell_type": "code",
   "execution_count": 7,
   "id": "b3f89e14",
   "metadata": {
    "execution": {
     "iopub.execute_input": "2023-07-19T16:53:22.937621Z",
     "iopub.status.busy": "2023-07-19T16:53:22.936810Z",
     "iopub.status.idle": "2023-07-19T16:53:22.996702Z",
     "shell.execute_reply": "2023-07-19T16:53:22.995465Z"
    },
    "papermill": {
     "duration": 0.081357,
     "end_time": "2023-07-19T16:53:22.999386",
     "exception": false,
     "start_time": "2023-07-19T16:53:22.918029",
     "status": "completed"
    },
    "tags": []
   },
   "outputs": [
    {
     "name": "stdout",
     "output_type": "stream",
     "text": [
      "Given Dataset:\n"
     ]
    },
    {
     "data": {
      "text/html": [
       "<div>\n",
       "<style scoped>\n",
       "    .dataframe tbody tr th:only-of-type {\n",
       "        vertical-align: middle;\n",
       "    }\n",
       "\n",
       "    .dataframe tbody tr th {\n",
       "        vertical-align: top;\n",
       "    }\n",
       "\n",
       "    .dataframe thead th {\n",
       "        text-align: right;\n",
       "    }\n",
       "</style>\n",
       "<table border=\"1\" class=\"dataframe\">\n",
       "  <thead>\n",
       "    <tr style=\"text-align: right;\">\n",
       "      <th></th>\n",
       "      <th>TV</th>\n",
       "      <th>Radio</th>\n",
       "      <th>Newspaper</th>\n",
       "      <th>Sales</th>\n",
       "    </tr>\n",
       "  </thead>\n",
       "  <tbody>\n",
       "    <tr>\n",
       "      <th>0</th>\n",
       "      <td>230.1</td>\n",
       "      <td>37.8</td>\n",
       "      <td>69.2</td>\n",
       "      <td>22.1</td>\n",
       "    </tr>\n",
       "    <tr>\n",
       "      <th>1</th>\n",
       "      <td>44.5</td>\n",
       "      <td>39.3</td>\n",
       "      <td>45.1</td>\n",
       "      <td>10.4</td>\n",
       "    </tr>\n",
       "    <tr>\n",
       "      <th>2</th>\n",
       "      <td>17.2</td>\n",
       "      <td>45.9</td>\n",
       "      <td>69.3</td>\n",
       "      <td>9.3</td>\n",
       "    </tr>\n",
       "    <tr>\n",
       "      <th>3</th>\n",
       "      <td>151.5</td>\n",
       "      <td>41.3</td>\n",
       "      <td>58.5</td>\n",
       "      <td>18.5</td>\n",
       "    </tr>\n",
       "    <tr>\n",
       "      <th>4</th>\n",
       "      <td>180.8</td>\n",
       "      <td>10.8</td>\n",
       "      <td>58.4</td>\n",
       "      <td>12.9</td>\n",
       "    </tr>\n",
       "    <tr>\n",
       "      <th>...</th>\n",
       "      <td>...</td>\n",
       "      <td>...</td>\n",
       "      <td>...</td>\n",
       "      <td>...</td>\n",
       "    </tr>\n",
       "    <tr>\n",
       "      <th>195</th>\n",
       "      <td>38.2</td>\n",
       "      <td>3.7</td>\n",
       "      <td>13.8</td>\n",
       "      <td>7.6</td>\n",
       "    </tr>\n",
       "    <tr>\n",
       "      <th>196</th>\n",
       "      <td>94.2</td>\n",
       "      <td>4.9</td>\n",
       "      <td>8.1</td>\n",
       "      <td>9.7</td>\n",
       "    </tr>\n",
       "    <tr>\n",
       "      <th>197</th>\n",
       "      <td>177.0</td>\n",
       "      <td>9.3</td>\n",
       "      <td>6.4</td>\n",
       "      <td>12.8</td>\n",
       "    </tr>\n",
       "    <tr>\n",
       "      <th>198</th>\n",
       "      <td>283.6</td>\n",
       "      <td>42.0</td>\n",
       "      <td>66.2</td>\n",
       "      <td>25.5</td>\n",
       "    </tr>\n",
       "    <tr>\n",
       "      <th>199</th>\n",
       "      <td>232.1</td>\n",
       "      <td>8.6</td>\n",
       "      <td>8.7</td>\n",
       "      <td>13.4</td>\n",
       "    </tr>\n",
       "  </tbody>\n",
       "</table>\n",
       "<p>200 rows × 4 columns</p>\n",
       "</div>"
      ],
      "text/plain": [
       "        TV  Radio  Newspaper  Sales\n",
       "0    230.1   37.8       69.2   22.1\n",
       "1     44.5   39.3       45.1   10.4\n",
       "2     17.2   45.9       69.3    9.3\n",
       "3    151.5   41.3       58.5   18.5\n",
       "4    180.8   10.8       58.4   12.9\n",
       "..     ...    ...        ...    ...\n",
       "195   38.2    3.7       13.8    7.6\n",
       "196   94.2    4.9        8.1    9.7\n",
       "197  177.0    9.3        6.4   12.8\n",
       "198  283.6   42.0       66.2   25.5\n",
       "199  232.1    8.6        8.7   13.4\n",
       "\n",
       "[200 rows x 4 columns]"
      ]
     },
     "execution_count": 7,
     "metadata": {},
     "output_type": "execute_result"
    }
   ],
   "source": [
    "df=pd.read_csv(\"/kaggle/input/advertisingcsv/Advertising.csv\")\n",
    "df=df.drop('Unnamed: 0', axis=1)\n",
    "print (\"Given Dataset:\")\n",
    "df"
   ]
  },
  {
   "cell_type": "code",
   "execution_count": 8,
   "id": "dc80d9a8",
   "metadata": {
    "execution": {
     "iopub.execute_input": "2023-07-19T16:53:23.038957Z",
     "iopub.status.busy": "2023-07-19T16:53:23.037898Z",
     "iopub.status.idle": "2023-07-19T16:53:23.042986Z",
     "shell.execute_reply": "2023-07-19T16:53:23.041955Z"
    },
    "papermill": {
     "duration": 0.026701,
     "end_time": "2023-07-19T16:53:23.045204",
     "exception": false,
     "start_time": "2023-07-19T16:53:23.018503",
     "status": "completed"
    },
    "tags": []
   },
   "outputs": [],
   "source": [
    "# Reading and Understanding the Given Dataset"
   ]
  },
  {
   "cell_type": "code",
   "execution_count": 9,
   "id": "80bbf31e",
   "metadata": {
    "execution": {
     "iopub.execute_input": "2023-07-19T16:53:23.082960Z",
     "iopub.status.busy": "2023-07-19T16:53:23.082232Z",
     "iopub.status.idle": "2023-07-19T16:53:23.089627Z",
     "shell.execute_reply": "2023-07-19T16:53:23.088452Z"
    },
    "papermill": {
     "duration": 0.029203,
     "end_time": "2023-07-19T16:53:23.092168",
     "exception": false,
     "start_time": "2023-07-19T16:53:23.062965",
     "status": "completed"
    },
    "tags": []
   },
   "outputs": [
    {
     "data": {
      "text/plain": [
       "(200, 4)"
      ]
     },
     "execution_count": 9,
     "metadata": {},
     "output_type": "execute_result"
    }
   ],
   "source": [
    "df.shape"
   ]
  },
  {
   "cell_type": "code",
   "execution_count": 10,
   "id": "a85e4b04",
   "metadata": {
    "execution": {
     "iopub.execute_input": "2023-07-19T16:53:23.130244Z",
     "iopub.status.busy": "2023-07-19T16:53:23.129039Z",
     "iopub.status.idle": "2023-07-19T16:53:23.150605Z",
     "shell.execute_reply": "2023-07-19T16:53:23.149132Z"
    },
    "papermill": {
     "duration": 0.043215,
     "end_time": "2023-07-19T16:53:23.153053",
     "exception": false,
     "start_time": "2023-07-19T16:53:23.109838",
     "status": "completed"
    },
    "tags": []
   },
   "outputs": [
    {
     "name": "stdout",
     "output_type": "stream",
     "text": [
      "<class 'pandas.core.frame.DataFrame'>\n",
      "RangeIndex: 200 entries, 0 to 199\n",
      "Data columns (total 4 columns):\n",
      " #   Column     Non-Null Count  Dtype  \n",
      "---  ------     --------------  -----  \n",
      " 0   TV         200 non-null    float64\n",
      " 1   Radio      200 non-null    float64\n",
      " 2   Newspaper  200 non-null    float64\n",
      " 3   Sales      200 non-null    float64\n",
      "dtypes: float64(4)\n",
      "memory usage: 6.4 KB\n"
     ]
    }
   ],
   "source": [
    "df.info()"
   ]
  },
  {
   "cell_type": "code",
   "execution_count": 11,
   "id": "25df8e8e",
   "metadata": {
    "execution": {
     "iopub.execute_input": "2023-07-19T16:53:23.191454Z",
     "iopub.status.busy": "2023-07-19T16:53:23.190773Z",
     "iopub.status.idle": "2023-07-19T16:53:23.217476Z",
     "shell.execute_reply": "2023-07-19T16:53:23.216208Z"
    },
    "papermill": {
     "duration": 0.049229,
     "end_time": "2023-07-19T16:53:23.220100",
     "exception": false,
     "start_time": "2023-07-19T16:53:23.170871",
     "status": "completed"
    },
    "tags": []
   },
   "outputs": [
    {
     "data": {
      "text/html": [
       "<div>\n",
       "<style scoped>\n",
       "    .dataframe tbody tr th:only-of-type {\n",
       "        vertical-align: middle;\n",
       "    }\n",
       "\n",
       "    .dataframe tbody tr th {\n",
       "        vertical-align: top;\n",
       "    }\n",
       "\n",
       "    .dataframe thead th {\n",
       "        text-align: right;\n",
       "    }\n",
       "</style>\n",
       "<table border=\"1\" class=\"dataframe\">\n",
       "  <thead>\n",
       "    <tr style=\"text-align: right;\">\n",
       "      <th></th>\n",
       "      <th>TV</th>\n",
       "      <th>Radio</th>\n",
       "      <th>Newspaper</th>\n",
       "      <th>Sales</th>\n",
       "    </tr>\n",
       "  </thead>\n",
       "  <tbody>\n",
       "    <tr>\n",
       "      <th>count</th>\n",
       "      <td>200.000000</td>\n",
       "      <td>200.000000</td>\n",
       "      <td>200.000000</td>\n",
       "      <td>200.000000</td>\n",
       "    </tr>\n",
       "    <tr>\n",
       "      <th>mean</th>\n",
       "      <td>147.042500</td>\n",
       "      <td>23.264000</td>\n",
       "      <td>30.554000</td>\n",
       "      <td>14.022500</td>\n",
       "    </tr>\n",
       "    <tr>\n",
       "      <th>std</th>\n",
       "      <td>85.854236</td>\n",
       "      <td>14.846809</td>\n",
       "      <td>21.778621</td>\n",
       "      <td>5.217457</td>\n",
       "    </tr>\n",
       "    <tr>\n",
       "      <th>min</th>\n",
       "      <td>0.700000</td>\n",
       "      <td>0.000000</td>\n",
       "      <td>0.300000</td>\n",
       "      <td>1.600000</td>\n",
       "    </tr>\n",
       "    <tr>\n",
       "      <th>25%</th>\n",
       "      <td>74.375000</td>\n",
       "      <td>9.975000</td>\n",
       "      <td>12.750000</td>\n",
       "      <td>10.375000</td>\n",
       "    </tr>\n",
       "    <tr>\n",
       "      <th>50%</th>\n",
       "      <td>149.750000</td>\n",
       "      <td>22.900000</td>\n",
       "      <td>25.750000</td>\n",
       "      <td>12.900000</td>\n",
       "    </tr>\n",
       "    <tr>\n",
       "      <th>75%</th>\n",
       "      <td>218.825000</td>\n",
       "      <td>36.525000</td>\n",
       "      <td>45.100000</td>\n",
       "      <td>17.400000</td>\n",
       "    </tr>\n",
       "    <tr>\n",
       "      <th>max</th>\n",
       "      <td>296.400000</td>\n",
       "      <td>49.600000</td>\n",
       "      <td>114.000000</td>\n",
       "      <td>27.000000</td>\n",
       "    </tr>\n",
       "  </tbody>\n",
       "</table>\n",
       "</div>"
      ],
      "text/plain": [
       "               TV       Radio   Newspaper       Sales\n",
       "count  200.000000  200.000000  200.000000  200.000000\n",
       "mean   147.042500   23.264000   30.554000   14.022500\n",
       "std     85.854236   14.846809   21.778621    5.217457\n",
       "min      0.700000    0.000000    0.300000    1.600000\n",
       "25%     74.375000    9.975000   12.750000   10.375000\n",
       "50%    149.750000   22.900000   25.750000   12.900000\n",
       "75%    218.825000   36.525000   45.100000   17.400000\n",
       "max    296.400000   49.600000  114.000000   27.000000"
      ]
     },
     "execution_count": 11,
     "metadata": {},
     "output_type": "execute_result"
    }
   ],
   "source": [
    "df.describe()"
   ]
  },
  {
   "cell_type": "code",
   "execution_count": 12,
   "id": "09f404f7",
   "metadata": {
    "execution": {
     "iopub.execute_input": "2023-07-19T16:53:23.258736Z",
     "iopub.status.busy": "2023-07-19T16:53:23.257399Z",
     "iopub.status.idle": "2023-07-19T16:53:23.270724Z",
     "shell.execute_reply": "2023-07-19T16:53:23.269438Z"
    },
    "papermill": {
     "duration": 0.03513,
     "end_time": "2023-07-19T16:53:23.273211",
     "exception": false,
     "start_time": "2023-07-19T16:53:23.238081",
     "status": "completed"
    },
    "tags": []
   },
   "outputs": [
    {
     "data": {
      "text/plain": [
       "<bound method NDFrame.head of         TV  Radio  Newspaper  Sales\n",
       "0    230.1   37.8       69.2   22.1\n",
       "1     44.5   39.3       45.1   10.4\n",
       "2     17.2   45.9       69.3    9.3\n",
       "3    151.5   41.3       58.5   18.5\n",
       "4    180.8   10.8       58.4   12.9\n",
       "..     ...    ...        ...    ...\n",
       "195   38.2    3.7       13.8    7.6\n",
       "196   94.2    4.9        8.1    9.7\n",
       "197  177.0    9.3        6.4   12.8\n",
       "198  283.6   42.0       66.2   25.5\n",
       "199  232.1    8.6        8.7   13.4\n",
       "\n",
       "[200 rows x 4 columns]>"
      ]
     },
     "execution_count": 12,
     "metadata": {},
     "output_type": "execute_result"
    }
   ],
   "source": [
    "df.head"
   ]
  },
  {
   "cell_type": "code",
   "execution_count": 13,
   "id": "7acccf63",
   "metadata": {
    "execution": {
     "iopub.execute_input": "2023-07-19T16:53:23.312464Z",
     "iopub.status.busy": "2023-07-19T16:53:23.311641Z",
     "iopub.status.idle": "2023-07-19T16:53:23.316537Z",
     "shell.execute_reply": "2023-07-19T16:53:23.315752Z"
    },
    "papermill": {
     "duration": 0.027536,
     "end_time": "2023-07-19T16:53:23.318987",
     "exception": false,
     "start_time": "2023-07-19T16:53:23.291451",
     "status": "completed"
    },
    "tags": []
   },
   "outputs": [],
   "source": [
    "# Dataset was Successfully Read and Understood "
   ]
  },
  {
   "cell_type": "code",
   "execution_count": 14,
   "id": "0a4cbd72",
   "metadata": {
    "execution": {
     "iopub.execute_input": "2023-07-19T16:53:23.357779Z",
     "iopub.status.busy": "2023-07-19T16:53:23.356930Z",
     "iopub.status.idle": "2023-07-19T16:53:23.362321Z",
     "shell.execute_reply": "2023-07-19T16:53:23.361144Z"
    },
    "papermill": {
     "duration": 0.027802,
     "end_time": "2023-07-19T16:53:23.364823",
     "exception": false,
     "start_time": "2023-07-19T16:53:23.337021",
     "status": "completed"
    },
    "tags": []
   },
   "outputs": [],
   "source": [
    "# Checking for any Missing Values or Duplicates "
   ]
  },
  {
   "cell_type": "code",
   "execution_count": 15,
   "id": "dae9e2eb",
   "metadata": {
    "execution": {
     "iopub.execute_input": "2023-07-19T16:53:23.403219Z",
     "iopub.status.busy": "2023-07-19T16:53:23.402825Z",
     "iopub.status.idle": "2023-07-19T16:53:23.411518Z",
     "shell.execute_reply": "2023-07-19T16:53:23.410415Z"
    },
    "papermill": {
     "duration": 0.031025,
     "end_time": "2023-07-19T16:53:23.414004",
     "exception": false,
     "start_time": "2023-07-19T16:53:23.382979",
     "status": "completed"
    },
    "tags": []
   },
   "outputs": [
    {
     "data": {
      "text/plain": [
       "TV           0\n",
       "Radio        0\n",
       "Newspaper    0\n",
       "Sales        0\n",
       "dtype: int64"
      ]
     },
     "execution_count": 15,
     "metadata": {},
     "output_type": "execute_result"
    }
   ],
   "source": [
    "df.isnull().values.any()\n",
    "df.isnull().sum()"
   ]
  },
  {
   "cell_type": "code",
   "execution_count": 16,
   "id": "b1d4279b",
   "metadata": {
    "execution": {
     "iopub.execute_input": "2023-07-19T16:53:23.452979Z",
     "iopub.status.busy": "2023-07-19T16:53:23.452560Z",
     "iopub.status.idle": "2023-07-19T16:53:23.463852Z",
     "shell.execute_reply": "2023-07-19T16:53:23.462644Z"
    },
    "papermill": {
     "duration": 0.034015,
     "end_time": "2023-07-19T16:53:23.466253",
     "exception": false,
     "start_time": "2023-07-19T16:53:23.432238",
     "status": "completed"
    },
    "tags": []
   },
   "outputs": [
    {
     "data": {
      "text/plain": [
       "0"
      ]
     },
     "execution_count": 16,
     "metadata": {},
     "output_type": "execute_result"
    }
   ],
   "source": [
    "df.duplicated().sum()"
   ]
  },
  {
   "cell_type": "code",
   "execution_count": 17,
   "id": "c8ab0b2e",
   "metadata": {
    "execution": {
     "iopub.execute_input": "2023-07-19T16:53:23.506652Z",
     "iopub.status.busy": "2023-07-19T16:53:23.505409Z",
     "iopub.status.idle": "2023-07-19T16:53:23.510562Z",
     "shell.execute_reply": "2023-07-19T16:53:23.509676Z"
    },
    "papermill": {
     "duration": 0.027952,
     "end_time": "2023-07-19T16:53:23.512873",
     "exception": false,
     "start_time": "2023-07-19T16:53:23.484921",
     "status": "completed"
    },
    "tags": []
   },
   "outputs": [],
   "source": [
    "# Using Seaborn Library "
   ]
  },
  {
   "cell_type": "code",
   "execution_count": 18,
   "id": "fb2c1dd8",
   "metadata": {
    "execution": {
     "iopub.execute_input": "2023-07-19T16:53:23.551389Z",
     "iopub.status.busy": "2023-07-19T16:53:23.550957Z",
     "iopub.status.idle": "2023-07-19T16:53:23.555771Z",
     "shell.execute_reply": "2023-07-19T16:53:23.554538Z"
    },
    "papermill": {
     "duration": 0.027464,
     "end_time": "2023-07-19T16:53:23.558634",
     "exception": false,
     "start_time": "2023-07-19T16:53:23.531170",
     "status": "completed"
    },
    "tags": []
   },
   "outputs": [],
   "source": [
    "# Visualizing the Relationship between Variable \"TV\" and Variable \"Sales\"\n",
    "# Visualizing the Relationship between Variable \"Radio\" and Variable \"Sales\"\n",
    "# Visualizing the Relationship between Variable \"Newspapers\" and Variable \"Sales\""
   ]
  },
  {
   "cell_type": "code",
   "execution_count": 19,
   "id": "0730336b",
   "metadata": {
    "execution": {
     "iopub.execute_input": "2023-07-19T16:53:23.597789Z",
     "iopub.status.busy": "2023-07-19T16:53:23.597347Z",
     "iopub.status.idle": "2023-07-19T16:53:23.906294Z",
     "shell.execute_reply": "2023-07-19T16:53:23.905003Z"
    },
    "papermill": {
     "duration": 0.331898,
     "end_time": "2023-07-19T16:53:23.909027",
     "exception": false,
     "start_time": "2023-07-19T16:53:23.577129",
     "status": "completed"
    },
    "tags": []
   },
   "outputs": [
    {
     "data": {
      "image/png": "[encoded data removed]",
      "text/plain": [
       "<Figure size 400x400 with 1 Axes>"
      ]
     },
     "metadata": {},
     "output_type": "display_data"
    }
   ],
   "source": [
    "plt.figure(figsize=(4,4))\n",
    "sns.scatterplot(data=df,x=df['TV'],y=df['Sales'])\n",
    "plt.show()"
   ]
  },
  {
   "cell_type": "code",
   "execution_count": 20,
   "id": "cc9c347f",
   "metadata": {
    "execution": {
     "iopub.execute_input": "2023-07-19T16:53:23.958435Z",
     "iopub.status.busy": "2023-07-19T16:53:23.957657Z",
     "iopub.status.idle": "2023-07-19T16:53:24.220535Z",
     "shell.execute_reply": "2023-07-19T16:53:24.219356Z"
    },
    "papermill": {
     "duration": 0.293293,
     "end_time": "2023-07-19T16:53:24.222987",
     "exception": false,
     "start_time": "2023-07-19T16:53:23.929694",
     "status": "completed"
    },
    "tags": []
   },
   "outputs": [
    {
     "data": {
      "image/png": "[encoded data removed]",
      "text/plain": [
       "<Figure size 400x400 with 1 Axes>"
      ]
     },
     "metadata": {},
     "output_type": "display_data"
    }
   ],
   "source": [
    "plt.figure(figsize=(4,4))\n",
    "sns.scatterplot(data=df,x=df['Radio'],y=df['Sales'])\n",
    "plt.show()"
   ]
  },
  {
   "cell_type": "code",
   "execution_count": 21,
   "id": "1979246e",
   "metadata": {
    "execution": {
     "iopub.execute_input": "2023-07-19T16:53:24.263939Z",
     "iopub.status.busy": "2023-07-19T16:53:24.263257Z",
     "iopub.status.idle": "2023-07-19T16:53:24.522685Z",
     "shell.execute_reply": "2023-07-19T16:53:24.521677Z"
    },
    "papermill": {
     "duration": 0.282585,
     "end_time": "2023-07-19T16:53:24.525062",
     "exception": false,
     "start_time": "2023-07-19T16:53:24.242477",
     "status": "completed"
    },
    "tags": []
   },
   "outputs": [
    {
     "data": {
      "image/png": "[encoded data removed]",
      "text/plain": [
       "<Figure size 400x400 with 1 Axes>"
      ]
     },
     "metadata": {},
     "output_type": "display_data"
    }
   ],
   "source": [
    "plt.figure(figsize=(4,4))\n",
    "sns.scatterplot(data=df,x=df['Newspaper'],y=df['Sales'])\n",
    "plt.show()"
   ]
  },
  {
   "cell_type": "code",
   "execution_count": 22,
   "id": "82374739",
   "metadata": {
    "execution": {
     "iopub.execute_input": "2023-07-19T16:53:24.567728Z",
     "iopub.status.busy": "2023-07-19T16:53:24.566844Z",
     "iopub.status.idle": "2023-07-19T16:53:24.571774Z",
     "shell.execute_reply": "2023-07-19T16:53:24.570754Z"
    },
    "papermill": {
     "duration": 0.028558,
     "end_time": "2023-07-19T16:53:24.573894",
     "exception": false,
     "start_time": "2023-07-19T16:53:24.545336",
     "status": "completed"
    },
    "tags": []
   },
   "outputs": [],
   "source": [
    "# Checking main assumptions of Linear Regression:\n",
    "# Linearity \n",
    "# Normality\n",
    "# Multicollinearity"
   ]
  },
  {
   "cell_type": "code",
   "execution_count": 23,
   "id": "bd1d0470",
   "metadata": {
    "execution": {
     "iopub.execute_input": "2023-07-19T16:53:24.615748Z",
     "iopub.status.busy": "2023-07-19T16:53:24.614991Z",
     "iopub.status.idle": "2023-07-19T16:53:24.619314Z",
     "shell.execute_reply": "2023-07-19T16:53:24.618271Z"
    },
    "papermill": {
     "duration": 0.027927,
     "end_time": "2023-07-19T16:53:24.621732",
     "exception": false,
     "start_time": "2023-07-19T16:53:24.593805",
     "status": "completed"
    },
    "tags": []
   },
   "outputs": [],
   "source": [
    "# Linearity "
   ]
  },
  {
   "cell_type": "code",
   "execution_count": 24,
   "id": "c07b539e",
   "metadata": {
    "execution": {
     "iopub.execute_input": "2023-07-19T16:53:24.663492Z",
     "iopub.status.busy": "2023-07-19T16:53:24.662706Z",
     "iopub.status.idle": "2023-07-19T16:53:25.859853Z",
     "shell.execute_reply": "2023-07-19T16:53:25.858836Z"
    },
    "papermill": {
     "duration": 1.220604,
     "end_time": "2023-07-19T16:53:25.862119",
     "exception": false,
     "start_time": "2023-07-19T16:53:24.641515",
     "status": "completed"
    },
    "tags": []
   },
   "outputs": [
    {
     "data": {
      "text/plain": [
       "<seaborn.axisgrid.PairGrid at 0x79949bfb4a30>"
      ]
     },
     "execution_count": 24,
     "metadata": {},
     "output_type": "execute_result"
    },
    {
     "data": {
      "image/png": "[encoded data removed]",
      "text/plain": [
       "<Figure size 750x250 with 3 Axes>"
      ]
     },
     "metadata": {},
     "output_type": "display_data"
    }
   ],
   "source": [
    "sns.pairplot(df,x_vars=[\"TV\",\"Radio\",\"Newspaper\"],y_vars= \"Sales\",kind=\"reg\")"
   ]
  },
  {
   "cell_type": "code",
   "execution_count": 25,
   "id": "10bbffa4",
   "metadata": {
    "execution": {
     "iopub.execute_input": "2023-07-19T16:53:25.906948Z",
     "iopub.status.busy": "2023-07-19T16:53:25.906504Z",
     "iopub.status.idle": "2023-07-19T16:53:26.902724Z",
     "shell.execute_reply": "2023-07-19T16:53:26.901377Z"
    },
    "papermill": {
     "duration": 1.021501,
     "end_time": "2023-07-19T16:53:26.905322",
     "exception": false,
     "start_time": "2023-07-19T16:53:25.883821",
     "status": "completed"
    },
    "tags": []
   },
   "outputs": [
    {
     "data": {
      "text/plain": [
       "array([[<Axes: title={'center': 'TV'}>,\n",
       "        <Axes: title={'center': 'Radio'}>],\n",
       "       [<Axes: title={'center': 'Newspaper'}>,\n",
       "        <Axes: title={'center': 'Sales'}>]], dtype=object)"
      ]
     },
     "execution_count": 25,
     "metadata": {},
     "output_type": "execute_result"
    },
    {
     "data": {
      "image/png": "[encoded data removed]",
      "text/plain": [
       "<Figure size 640x480 with 4 Axes>"
      ]
     },
     "metadata": {},
     "output_type": "display_data"
    }
   ],
   "source": [
    "df.hist(bins=20)"
   ]
  },
  {
   "cell_type": "code",
   "execution_count": 26,
   "id": "5e3149dd",
   "metadata": {
    "execution": {
     "iopub.execute_input": "2023-07-19T16:53:26.951459Z",
     "iopub.status.busy": "2023-07-19T16:53:26.950884Z",
     "iopub.status.idle": "2023-07-19T16:53:26.955773Z",
     "shell.execute_reply": "2023-07-19T16:53:26.954561Z"
    },
    "papermill": {
     "duration": 0.030847,
     "end_time": "2023-07-19T16:53:26.958220",
     "exception": false,
     "start_time": "2023-07-19T16:53:26.927373",
     "status": "completed"
    },
    "tags": []
   },
   "outputs": [],
   "source": [
    "# Normality "
   ]
  },
  {
   "cell_type": "code",
   "execution_count": 27,
   "id": "172978dc",
   "metadata": {
    "execution": {
     "iopub.execute_input": "2023-07-19T16:53:27.005511Z",
     "iopub.status.busy": "2023-07-19T16:53:27.004757Z",
     "iopub.status.idle": "2023-07-19T16:53:27.439437Z",
     "shell.execute_reply": "2023-07-19T16:53:27.438244Z"
    },
    "papermill": {
     "duration": 0.461633,
     "end_time": "2023-07-19T16:53:27.441971",
     "exception": false,
     "start_time": "2023-07-19T16:53:26.980338",
     "status": "completed"
    },
    "tags": []
   },
   "outputs": [
    {
     "data": {
      "text/plain": [
       "<seaborn.axisgrid.FacetGrid at 0x799499b20d30>"
      ]
     },
     "execution_count": 27,
     "metadata": {},
     "output_type": "execute_result"
    },
    {
     "data": {
      "image/png": "[encoded data removed]",
      "text/plain": [
       "<Figure size 500x500 with 1 Axes>"
      ]
     },
     "metadata": {},
     "output_type": "display_data"
    }
   ],
   "source": [
    "sns.displot(df.Sales, bins=10, color=\"blue\", kde=True)"
   ]
  },
  {
   "cell_type": "code",
   "execution_count": 28,
   "id": "0d9c4c13",
   "metadata": {
    "execution": {
     "iopub.execute_input": "2023-07-19T16:53:27.489274Z",
     "iopub.status.busy": "2023-07-19T16:53:27.488562Z",
     "iopub.status.idle": "2023-07-19T16:53:27.493336Z",
     "shell.execute_reply": "2023-07-19T16:53:27.492437Z"
    },
    "papermill": {
     "duration": 0.031282,
     "end_time": "2023-07-19T16:53:27.495670",
     "exception": false,
     "start_time": "2023-07-19T16:53:27.464388",
     "status": "completed"
    },
    "tags": []
   },
   "outputs": [],
   "source": [
    "# Multicollinearity"
   ]
  },
  {
   "cell_type": "code",
   "execution_count": 29,
   "id": "7428b229",
   "metadata": {
    "execution": {
     "iopub.execute_input": "2023-07-19T16:53:27.542772Z",
     "iopub.status.busy": "2023-07-19T16:53:27.542336Z",
     "iopub.status.idle": "2023-07-19T16:53:27.553058Z",
     "shell.execute_reply": "2023-07-19T16:53:27.551638Z"
    },
    "papermill": {
     "duration": 0.037515,
     "end_time": "2023-07-19T16:53:27.556018",
     "exception": false,
     "start_time": "2023-07-19T16:53:27.518503",
     "status": "completed"
    },
    "tags": []
   },
   "outputs": [
    {
     "name": "stdout",
     "output_type": "stream",
     "text": [
      "Sales        1.000000\n",
      "TV           0.782224\n",
      "Radio        0.576223\n",
      "Newspaper    0.228299\n",
      "Name: Sales, dtype: float64\n"
     ]
    }
   ],
   "source": [
    "num_cols = df[[\"TV\",\"Radio\",\"Newspaper\"]]\n",
    "a = df.corr()['Sales'].sort_values(ascending=False)\n",
    "print(a)"
   ]
  },
  {
   "cell_type": "code",
   "execution_count": 30,
   "id": "e5f286d2",
   "metadata": {
    "execution": {
     "iopub.execute_input": "2023-07-19T16:53:27.604877Z",
     "iopub.status.busy": "2023-07-19T16:53:27.604021Z",
     "iopub.status.idle": "2023-07-19T16:53:27.609180Z",
     "shell.execute_reply": "2023-07-19T16:53:27.608315Z"
    },
    "papermill": {
     "duration": 0.032572,
     "end_time": "2023-07-19T16:53:27.611541",
     "exception": false,
     "start_time": "2023-07-19T16:53:27.578969",
     "status": "completed"
    },
    "tags": []
   },
   "outputs": [],
   "source": [
    "# Correlation of Different variables using Heatmap "
   ]
  },
  {
   "cell_type": "code",
   "execution_count": 31,
   "id": "4bcdda91",
   "metadata": {
    "execution": {
     "iopub.execute_input": "2023-07-19T16:53:27.659166Z",
     "iopub.status.busy": "2023-07-19T16:53:27.658015Z",
     "iopub.status.idle": "2023-07-19T16:53:28.177520Z",
     "shell.execute_reply": "2023-07-19T16:53:28.176285Z"
    },
    "papermill": {
     "duration": 0.546178,
     "end_time": "2023-07-19T16:53:28.180222",
     "exception": false,
     "start_time": "2023-07-19T16:53:27.634044",
     "status": "completed"
    },
    "tags": []
   },
   "outputs": [
    {
     "data": {
      "image/png": "[encoded data removed]",
      "text/plain": [
       "<Figure size 1200x900 with 2 Axes>"
      ]
     },
     "metadata": {},
     "output_type": "display_data"
    }
   ],
   "source": [
    "corrmat = df.corr()\n",
    "f, ax = plt.subplots(figsize=(12, 9))\n",
    "sns.heatmap(corrmat,vmin = 0,vmax=1,square=True,cmap=\"YlGnBu\",ax=ax)\n",
    "plt.show()"
   ]
  },
  {
   "cell_type": "code",
   "execution_count": 32,
   "id": "70287958",
   "metadata": {
    "execution": {
     "iopub.execute_input": "2023-07-19T16:53:28.228991Z",
     "iopub.status.busy": "2023-07-19T16:53:28.228532Z",
     "iopub.status.idle": "2023-07-19T16:53:28.233043Z",
     "shell.execute_reply": "2023-07-19T16:53:28.232149Z"
    },
    "papermill": {
     "duration": 0.031863,
     "end_time": "2023-07-19T16:53:28.235303",
     "exception": false,
     "start_time": "2023-07-19T16:53:28.203440",
     "status": "completed"
    },
    "tags": []
   },
   "outputs": [],
   "source": [
    "#There is no multicolinearity between among independent/dependent variable"
   ]
  },
  {
   "cell_type": "code",
   "execution_count": 33,
   "id": "0b84865b",
   "metadata": {
    "execution": {
     "iopub.execute_input": "2023-07-19T16:53:28.283785Z",
     "iopub.status.busy": "2023-07-19T16:53:28.283328Z",
     "iopub.status.idle": "2023-07-19T16:53:28.288077Z",
     "shell.execute_reply": "2023-07-19T16:53:28.287166Z"
    },
    "papermill": {
     "duration": 0.031453,
     "end_time": "2023-07-19T16:53:28.290457",
     "exception": false,
     "start_time": "2023-07-19T16:53:28.259004",
     "status": "completed"
    },
    "tags": []
   },
   "outputs": [],
   "source": [
    "# Splitting Data \n",
    "# Using Train-Test Split"
   ]
  },
  {
   "cell_type": "code",
   "execution_count": 34,
   "id": "a26bffd3",
   "metadata": {
    "execution": {
     "iopub.execute_input": "2023-07-19T16:53:28.338899Z",
     "iopub.status.busy": "2023-07-19T16:53:28.338109Z",
     "iopub.status.idle": "2023-07-19T16:53:28.346804Z",
     "shell.execute_reply": "2023-07-19T16:53:28.345947Z"
    },
    "papermill": {
     "duration": 0.035873,
     "end_time": "2023-07-19T16:53:28.349368",
     "exception": false,
     "start_time": "2023-07-19T16:53:28.313495",
     "status": "completed"
    },
    "tags": []
   },
   "outputs": [],
   "source": [
    "features = [\"TV\", \"Radio\", \"Newspaper\"]\n",
    "X = df[features]\n",
    "target = \"Sales\"\n",
    "y = df[target]\n",
    "\n",
    "X_train, X_test, y_train, y_test = train_test_split(X, y, test_size=0.2, random_state=42) "
   ]
  },
  {
   "cell_type": "code",
   "execution_count": 35,
   "id": "03234524",
   "metadata": {
    "execution": {
     "iopub.execute_input": "2023-07-19T16:53:28.399169Z",
     "iopub.status.busy": "2023-07-19T16:53:28.398032Z",
     "iopub.status.idle": "2023-07-19T16:53:28.403286Z",
     "shell.execute_reply": "2023-07-19T16:53:28.402071Z"
    },
    "papermill": {
     "duration": 0.032575,
     "end_time": "2023-07-19T16:53:28.405915",
     "exception": false,
     "start_time": "2023-07-19T16:53:28.373340",
     "status": "completed"
    },
    "tags": []
   },
   "outputs": [],
   "source": [
    "# Building the Model"
   ]
  },
  {
   "cell_type": "code",
   "execution_count": 36,
   "id": "8f2fe2eb",
   "metadata": {
    "execution": {
     "iopub.execute_input": "2023-07-19T16:53:28.454846Z",
     "iopub.status.busy": "2023-07-19T16:53:28.454409Z",
     "iopub.status.idle": "2023-07-19T16:53:28.462655Z",
     "shell.execute_reply": "2023-07-19T16:53:28.461149Z"
    },
    "papermill": {
     "duration": 0.035672,
     "end_time": "2023-07-19T16:53:28.465040",
     "exception": false,
     "start_time": "2023-07-19T16:53:28.429368",
     "status": "completed"
    },
    "tags": []
   },
   "outputs": [
    {
     "name": "stdout",
     "output_type": "stream",
     "text": [
      "Mean Error:  14.1\n",
      "Baseline Error:  [14.1, 14.1, 14.1, 14.1, 14.1]\n",
      "MAE Baseline:  4.12\n"
     ]
    }
   ],
   "source": [
    "y_mean = y_train.mean()\n",
    "print(\"Mean Error: \", y_mean)\n",
    "y_pred_baseline = [y_mean] * len(y_train)\n",
    "print(\"Baseline Error: \", y_pred_baseline[:5])\n",
    "mae_baseline = mean_absolute_error(y_train, y_pred_baseline)\n",
    "print(\"MAE Baseline: \", mae_baseline)"
   ]
  },
  {
   "cell_type": "code",
   "execution_count": 37,
   "id": "3cb27504",
   "metadata": {
    "execution": {
     "iopub.execute_input": "2023-07-19T16:53:28.514947Z",
     "iopub.status.busy": "2023-07-19T16:53:28.514204Z",
     "iopub.status.idle": "2023-07-19T16:53:28.519340Z",
     "shell.execute_reply": "2023-07-19T16:53:28.518389Z"
    },
    "papermill": {
     "duration": 0.032291,
     "end_time": "2023-07-19T16:53:28.521821",
     "exception": false,
     "start_time": "2023-07-19T16:53:28.489530",
     "status": "completed"
    },
    "tags": []
   },
   "outputs": [],
   "source": [
    "# Model Instantiation"
   ]
  },
  {
   "cell_type": "code",
   "execution_count": 38,
   "id": "b55ed47e",
   "metadata": {
    "execution": {
     "iopub.execute_input": "2023-07-19T16:53:28.570509Z",
     "iopub.status.busy": "2023-07-19T16:53:28.569782Z",
     "iopub.status.idle": "2023-07-19T16:53:28.603963Z",
     "shell.execute_reply": "2023-07-19T16:53:28.602808Z"
    },
    "papermill": {
     "duration": 0.06156,
     "end_time": "2023-07-19T16:53:28.606443",
     "exception": false,
     "start_time": "2023-07-19T16:53:28.544883",
     "status": "completed"
    },
    "tags": []
   },
   "outputs": [
    {
     "data": {
      "text/html": [
       "<style>#sk-container-id-1 {color: black;background-color: white;}#sk-container-id-1 pre{padding: 0;}#sk-container-id-1 div.sk-toggleable {background-color: white;}#sk-container-id-1 label.sk-toggleable__label {cursor: pointer;display: block;width: 100%;margin-bottom: 0;padding: 0.3em;box-sizing: border-box;text-align: center;}#sk-container-id-1 label.sk-toggleable__label-arrow:before {content: \"▸\";float: left;margin-right: 0.25em;color: #696969;}#sk-container-id-1 label.sk-toggleable__label-arrow:hover:before {color: black;}#sk-container-id-1 div.sk-estimator:hover label.sk-toggleable__label-arrow:before {color: black;}#sk-container-id-1 div.sk-toggleable__content {max-height: 0;max-width: 0;overflow: hidden;text-align: left;background-color: #f0f8ff;}#sk-container-id-1 div.sk-toggleable__content pre {margin: 0.2em;color: black;border-radius: 0.25em;background-color: #f0f8ff;}#sk-container-id-1 input.sk-toggleable__control:checked~div.sk-toggleable__content {max-height: 200px;max-width: 100%;overflow: auto;}#sk-container-id-1 input.sk-toggleable__control:checked~label.sk-toggleable__label-arrow:before {content: \"▾\";}#sk-container-id-1 div.sk-estimator input.sk-toggleable__control:checked~label.sk-toggleable__label {background-color: #d4ebff;}#sk-container-id-1 div.sk-label input.sk-toggleable__control:checked~label.sk-toggleable__label {background-color: #d4ebff;}#sk-container-id-1 input.sk-hidden--visually {border: 0;clip: rect(1px 1px 1px 1px);clip: rect(1px, 1px, 1px, 1px);height: 1px;margin: -1px;overflow: hidden;padding: 0;position: absolute;width: 1px;}#sk-container-id-1 div.sk-estimator {font-family: monospace;background-color: #f0f8ff;border: 1px dotted black;border-radius: 0.25em;box-sizing: border-box;margin-bottom: 0.5em;}#sk-container-id-1 div.sk-estimator:hover {background-color: #d4ebff;}#sk-container-id-1 div.sk-parallel-item::after {content: \"\";width: 100%;border-bottom: 1px solid gray;flex-grow: 1;}#sk-container-id-1 div.sk-label:hover label.sk-toggleable__label {background-color: #d4ebff;}#sk-container-id-1 div.sk-serial::before {content: \"\";position: absolute;border-left: 1px solid gray;box-sizing: border-box;top: 0;bottom: 0;left: 50%;z-index: 0;}#sk-container-id-1 div.sk-serial {display: flex;flex-direction: column;align-items: center;background-color: white;padding-right: 0.2em;padding-left: 0.2em;position: relative;}#sk-container-id-1 div.sk-item {position: relative;z-index: 1;}#sk-container-id-1 div.sk-parallel {display: flex;align-items: stretch;justify-content: center;background-color: white;position: relative;}#sk-container-id-1 div.sk-item::before, #sk-container-id-1 div.sk-parallel-item::before {content: \"\";position: absolute;border-left: 1px solid gray;box-sizing: border-box;top: 0;bottom: 0;left: 50%;z-index: -1;}#sk-container-id-1 div.sk-parallel-item {display: flex;flex-direction: column;z-index: 1;position: relative;background-color: white;}#sk-container-id-1 div.sk-parallel-item:first-child::after {align-self: flex-end;width: 50%;}#sk-container-id-1 div.sk-parallel-item:last-child::after {align-self: flex-start;width: 50%;}#sk-container-id-1 div.sk-parallel-item:only-child::after {width: 0;}#sk-container-id-1 div.sk-dashed-wrapped {border: 1px dashed gray;margin: 0 0.4em 0.5em 0.4em;box-sizing: border-box;padding-bottom: 0.4em;background-color: white;}#sk-container-id-1 div.sk-label label {font-family: monospace;font-weight: bold;display: inline-block;line-height: 1.2em;}#sk-container-id-1 div.sk-label-container {text-align: center;}#sk-container-id-1 div.sk-container {/* jupyter's `normalize.less` sets `[hidden] { display: none; }` but bootstrap.min.css set `[hidden] { display: none !important; }` so we also need the `!important` here to be able to override the default hidden behavior on the sphinx rendered scikit-learn.org. See: https://github.com/scikit-learn/scikit-learn/issues/21755 */display: inline-block !important;position: relative;}#sk-container-id-1 div.sk-text-repr-fallback {display: none;}</style><div id=\"sk-container-id-1\" class=\"sk-top-container\"><div class=\"sk-text-repr-fallback\"><pre>LinearRegression()</pre><b>In a Jupyter environment, please rerun this cell to show the HTML representation or trust the notebook. <br />On GitHub, the HTML representation is unable to render, please try loading this page with nbviewer.org.</b></div><div class=\"sk-container\" hidden><div class=\"sk-item\"><div class=\"sk-estimator sk-toggleable\"><input class=\"sk-toggleable__control sk-hidden--visually\" id=\"sk-estimator-id-1\" type=\"checkbox\" checked><label for=\"sk-estimator-id-1\" class=\"sk-toggleable__label sk-toggleable__label-arrow\">LinearRegression</label><div class=\"sk-toggleable__content\"><pre>LinearRegression()</pre></div></div></div></div></div>"
      ],
      "text/plain": [
       "LinearRegression()"
      ]
     },
     "execution_count": 38,
     "metadata": {},
     "output_type": "execute_result"
    }
   ],
   "source": [
    "model = LinearRegression().fit(X_train, y_train)\n",
    "model"
   ]
  },
  {
   "cell_type": "code",
   "execution_count": 39,
   "id": "d2e3e882",
   "metadata": {
    "execution": {
     "iopub.execute_input": "2023-07-19T16:53:28.656257Z",
     "iopub.status.busy": "2023-07-19T16:53:28.655560Z",
     "iopub.status.idle": "2023-07-19T16:53:28.659922Z",
     "shell.execute_reply": "2023-07-19T16:53:28.659078Z"
    },
    "papermill": {
     "duration": 0.031686,
     "end_time": "2023-07-19T16:53:28.662217",
     "exception": false,
     "start_time": "2023-07-19T16:53:28.630531",
     "status": "completed"
    },
    "tags": []
   },
   "outputs": [],
   "source": [
    "# Prediction on the Training Data "
   ]
  },
  {
   "cell_type": "code",
   "execution_count": 40,
   "id": "037f5508",
   "metadata": {
    "execution": {
     "iopub.execute_input": "2023-07-19T16:53:28.711768Z",
     "iopub.status.busy": "2023-07-19T16:53:28.711043Z",
     "iopub.status.idle": "2023-07-19T16:53:28.720220Z",
     "shell.execute_reply": "2023-07-19T16:53:28.718929Z"
    },
    "papermill": {
     "duration": 0.036936,
     "end_time": "2023-07-19T16:53:28.722863",
     "exception": false,
     "start_time": "2023-07-19T16:53:28.685927",
     "status": "completed"
    },
    "tags": []
   },
   "outputs": [
    {
     "name": "stdout",
     "output_type": "stream",
     "text": [
      "Predicted values after model:  [ 9.68827502 12.67337707 10.0553326   8.20010235 13.49562077]\n",
      "MAE for training data after prediction:  1.1984678961500137\n"
     ]
    }
   ],
   "source": [
    "y_pred_training = model.predict(X_train)\n",
    "print(\"Predicted values after model: \", y_pred_training[:5])\n",
    "mae_pred_training = mean_absolute_error(y_train, y_pred_training)\n",
    "print(\"MAE for training data after prediction: \", mae_pred_training)"
   ]
  },
  {
   "cell_type": "code",
   "execution_count": 41,
   "id": "1d7f63fb",
   "metadata": {
    "execution": {
     "iopub.execute_input": "2023-07-19T16:53:28.773690Z",
     "iopub.status.busy": "2023-07-19T16:53:28.772954Z",
     "iopub.status.idle": "2023-07-19T16:53:28.777318Z",
     "shell.execute_reply": "2023-07-19T16:53:28.776430Z"
    },
    "papermill": {
     "duration": 0.032011,
     "end_time": "2023-07-19T16:53:28.779541",
     "exception": false,
     "start_time": "2023-07-19T16:53:28.747530",
     "status": "completed"
    },
    "tags": []
   },
   "outputs": [],
   "source": [
    "# Prediction on Test Data "
   ]
  },
  {
   "cell_type": "code",
   "execution_count": 42,
   "id": "6de37fa5",
   "metadata": {
    "execution": {
     "iopub.execute_input": "2023-07-19T16:53:28.829702Z",
     "iopub.status.busy": "2023-07-19T16:53:28.829063Z",
     "iopub.status.idle": "2023-07-19T16:53:28.837234Z",
     "shell.execute_reply": "2023-07-19T16:53:28.836243Z"
    },
    "papermill": {
     "duration": 0.036307,
     "end_time": "2023-07-19T16:53:28.839879",
     "exception": false,
     "start_time": "2023-07-19T16:53:28.803572",
     "status": "completed"
    },
    "tags": []
   },
   "outputs": [
    {
     "name": "stdout",
     "output_type": "stream",
     "text": [
      "Predicted values after model:  [16.4080242  20.88988209 21.55384318 10.60850256 22.11237326]\n",
      "MAE for test data after prediction:  1.4607567168117603\n"
     ]
    }
   ],
   "source": [
    "y_pred_test = model.predict(X_test)\n",
    "print(\"Predicted values after model: \", y_pred_test[:5])\n",
    "mae_pred_test = mean_absolute_error(y_test, y_pred_test)\n",
    "print(\"MAE for test data after prediction: \", mae_pred_test)"
   ]
  },
  {
   "cell_type": "code",
   "execution_count": 43,
   "id": "7cbef7ce",
   "metadata": {
    "execution": {
     "iopub.execute_input": "2023-07-19T16:53:28.891377Z",
     "iopub.status.busy": "2023-07-19T16:53:28.890918Z",
     "iopub.status.idle": "2023-07-19T16:53:28.896235Z",
     "shell.execute_reply": "2023-07-19T16:53:28.894682Z"
    },
    "papermill": {
     "duration": 0.032994,
     "end_time": "2023-07-19T16:53:28.898854",
     "exception": false,
     "start_time": "2023-07-19T16:53:28.865860",
     "status": "completed"
    },
    "tags": []
   },
   "outputs": [],
   "source": [
    "# Extracting Intercept and Coefficient "
   ]
  },
  {
   "cell_type": "code",
   "execution_count": 44,
   "id": "e235e4ce",
   "metadata": {
    "execution": {
     "iopub.execute_input": "2023-07-19T16:53:28.949378Z",
     "iopub.status.busy": "2023-07-19T16:53:28.948938Z",
     "iopub.status.idle": "2023-07-19T16:53:28.955571Z",
     "shell.execute_reply": "2023-07-19T16:53:28.954677Z"
    },
    "papermill": {
     "duration": 0.03493,
     "end_time": "2023-07-19T16:53:28.957814",
     "exception": false,
     "start_time": "2023-07-19T16:53:28.922884",
     "status": "completed"
    },
    "tags": []
   },
   "outputs": [
    {
     "data": {
      "text/plain": [
       "2.979067338122629"
      ]
     },
     "execution_count": 44,
     "metadata": {},
     "output_type": "execute_result"
    }
   ],
   "source": [
    "intercept = model.intercept_\n",
    "intercept"
   ]
  },
  {
   "cell_type": "code",
   "execution_count": 45,
   "id": "89fddfa8",
   "metadata": {
    "execution": {
     "iopub.execute_input": "2023-07-19T16:53:29.010860Z",
     "iopub.status.busy": "2023-07-19T16:53:29.009632Z",
     "iopub.status.idle": "2023-07-19T16:53:29.017894Z",
     "shell.execute_reply": "2023-07-19T16:53:29.016470Z"
    },
    "papermill": {
     "duration": 0.03791,
     "end_time": "2023-07-19T16:53:29.020416",
     "exception": false,
     "start_time": "2023-07-19T16:53:28.982506",
     "status": "completed"
    },
    "tags": []
   },
   "outputs": [
    {
     "data": {
      "text/plain": [
       "array([0.04472952, 0.18919505, 0.00276111])"
      ]
     },
     "execution_count": 45,
     "metadata": {},
     "output_type": "execute_result"
    }
   ],
   "source": [
    "coefficient = model.coef_\n",
    "coefficient"
   ]
  },
  {
   "cell_type": "code",
   "execution_count": 46,
   "id": "3a20bb66",
   "metadata": {
    "execution": {
     "iopub.execute_input": "2023-07-19T16:53:29.071134Z",
     "iopub.status.busy": "2023-07-19T16:53:29.070438Z",
     "iopub.status.idle": "2023-07-19T16:53:29.075269Z",
     "shell.execute_reply": "2023-07-19T16:53:29.074281Z"
    },
    "papermill": {
     "duration": 0.032746,
     "end_time": "2023-07-19T16:53:29.077678",
     "exception": false,
     "start_time": "2023-07-19T16:53:29.044932",
     "status": "completed"
    },
    "tags": []
   },
   "outputs": [],
   "source": [
    "# Multi-Linear Regression Equation"
   ]
  },
  {
   "cell_type": "code",
   "execution_count": 47,
   "id": "74407278",
   "metadata": {
    "execution": {
     "iopub.execute_input": "2023-07-19T16:53:29.127921Z",
     "iopub.status.busy": "2023-07-19T16:53:29.127518Z",
     "iopub.status.idle": "2023-07-19T16:53:29.133422Z",
     "shell.execute_reply": "2023-07-19T16:53:29.132144Z"
    },
    "papermill": {
     "duration": 0.034631,
     "end_time": "2023-07-19T16:53:29.136048",
     "exception": false,
     "start_time": "2023-07-19T16:53:29.101417",
     "status": "completed"
    },
    "tags": []
   },
   "outputs": [
    {
     "name": "stdout",
     "output_type": "stream",
     "text": [
      "Sales = 2.979067338122629 + 0.044729517468716326 * TV + 0.18919505423437652 * Radio + 0.0027611143413671935 * Newspaper\n"
     ]
    }
   ],
   "source": [
    "print(f\"Sales = {intercept} + {coefficient[0]} * TV + {coefficient[1]} * Radio + {coefficient[2]} * Newspaper\")"
   ]
  },
  {
   "cell_type": "code",
   "execution_count": 48,
   "id": "6e68e884",
   "metadata": {
    "execution": {
     "iopub.execute_input": "2023-07-19T16:53:29.186138Z",
     "iopub.status.busy": "2023-07-19T16:53:29.185361Z",
     "iopub.status.idle": "2023-07-19T16:53:29.190000Z",
     "shell.execute_reply": "2023-07-19T16:53:29.189066Z"
    },
    "papermill": {
     "duration": 0.032339,
     "end_time": "2023-07-19T16:53:29.192289",
     "exception": false,
     "start_time": "2023-07-19T16:53:29.159950",
     "status": "completed"
    },
    "tags": []
   },
   "outputs": [],
   "source": [
    "# Model Evaluation"
   ]
  },
  {
   "cell_type": "code",
   "execution_count": 49,
   "id": "a9840712",
   "metadata": {
    "execution": {
     "iopub.execute_input": "2023-07-19T16:53:29.242220Z",
     "iopub.status.busy": "2023-07-19T16:53:29.241451Z",
     "iopub.status.idle": "2023-07-19T16:53:29.252246Z",
     "shell.execute_reply": "2023-07-19T16:53:29.250415Z"
    },
    "papermill": {
     "duration": 0.038727,
     "end_time": "2023-07-19T16:53:29.254785",
     "exception": false,
     "start_time": "2023-07-19T16:53:29.216058",
     "status": "completed"
    },
    "tags": []
   },
   "outputs": [
    {
     "name": "stdout",
     "output_type": "stream",
     "text": [
      "Score of training data:  0.8957008271017818\n",
      "Score of test data:  0.8957008271017818\n"
     ]
    }
   ],
   "source": [
    "print(\"Score of training data: \", model.score(X_train, y_train))\n",
    "print(\"Score of test data: \", model.score(X_train, y_train))"
   ]
  },
  {
   "cell_type": "code",
   "execution_count": 50,
   "id": "80289ef3",
   "metadata": {
    "execution": {
     "iopub.execute_input": "2023-07-19T16:53:29.304322Z",
     "iopub.status.busy": "2023-07-19T16:53:29.303928Z",
     "iopub.status.idle": "2023-07-19T16:53:29.308787Z",
     "shell.execute_reply": "2023-07-19T16:53:29.307446Z"
    },
    "papermill": {
     "duration": 0.032501,
     "end_time": "2023-07-19T16:53:29.311162",
     "exception": false,
     "start_time": "2023-07-19T16:53:29.278661",
     "status": "completed"
    },
    "tags": []
   },
   "outputs": [],
   "source": [
    "# Actual vs Prediction \n",
    "# Training Data "
   ]
  },
  {
   "cell_type": "code",
   "execution_count": 51,
   "id": "5561acec",
   "metadata": {
    "execution": {
     "iopub.execute_input": "2023-07-19T16:53:29.361073Z",
     "iopub.status.busy": "2023-07-19T16:53:29.360677Z",
     "iopub.status.idle": "2023-07-19T16:53:29.687632Z",
     "shell.execute_reply": "2023-07-19T16:53:29.686259Z"
    },
    "papermill": {
     "duration": 0.354997,
     "end_time": "2023-07-19T16:53:29.690223",
     "exception": false,
     "start_time": "2023-07-19T16:53:29.335226",
     "status": "completed"
    },
    "tags": []
   },
   "outputs": [
    {
     "data": {
      "text/plain": [
       "Text(0.5, 1.0, 'Actual vs Predicted [Training Data]')"
      ]
     },
     "execution_count": 51,
     "metadata": {},
     "output_type": "execute_result"
    },
    {
     "data": {
      "image/png": "[encoded data removed]",
      "text/plain": [
       "<Figure size 640x480 with 1 Axes>"
      ]
     },
     "metadata": {},
     "output_type": "display_data"
    }
   ],
   "source": [
    "plt.scatter(y_train, y_pred_training)\n",
    "plt.xlabel(\"Actual\")\n",
    "plt.ylabel(\"Predicted\")\n",
    "plt.title(\"Actual vs Predicted [Training Data]\")"
   ]
  },
  {
   "cell_type": "code",
   "execution_count": 52,
   "id": "7bfa0faa",
   "metadata": {
    "execution": {
     "iopub.execute_input": "2023-07-19T16:53:29.742416Z",
     "iopub.status.busy": "2023-07-19T16:53:29.741978Z",
     "iopub.status.idle": "2023-07-19T16:53:29.747208Z",
     "shell.execute_reply": "2023-07-19T16:53:29.745919Z"
    },
    "papermill": {
     "duration": 0.033908,
     "end_time": "2023-07-19T16:53:29.749621",
     "exception": false,
     "start_time": "2023-07-19T16:53:29.715713",
     "status": "completed"
    },
    "tags": []
   },
   "outputs": [],
   "source": [
    "# Actual Prediction \n",
    "# Test Data "
   ]
  },
  {
   "cell_type": "code",
   "execution_count": 53,
   "id": "9fe61c18",
   "metadata": {
    "execution": {
     "iopub.execute_input": "2023-07-19T16:53:29.801266Z",
     "iopub.status.busy": "2023-07-19T16:53:29.800843Z",
     "iopub.status.idle": "2023-07-19T16:53:30.187749Z",
     "shell.execute_reply": "2023-07-19T16:53:30.186407Z"
    },
    "papermill": {
     "duration": 0.415922,
     "end_time": "2023-07-19T16:53:30.190416",
     "exception": false,
     "start_time": "2023-07-19T16:53:29.774494",
     "status": "completed"
    },
    "tags": []
   },
   "outputs": [
    {
     "data": {
      "text/plain": [
       "Text(0.5, 1.0, 'Actual vs Predicted [Test Data]')"
      ]
     },
     "execution_count": 53,
     "metadata": {},
     "output_type": "execute_result"
    },
    {
     "data": {
      "image/png": "[encoded data removed]",
      "text/plain": [
       "<Figure size 640x480 with 1 Axes>"
      ]
     },
     "metadata": {},
     "output_type": "display_data"
    }
   ],
   "source": [
    "plt.scatter(y_test, y_pred_test)\n",
    "plt.xlabel(\"Actual\")\n",
    "plt.ylabel(\"Predicted\")\n",
    "plt.title(\"Actual vs Predicted [Test Data]\")"
   ]
  },
  {
   "cell_type": "code",
   "execution_count": 54,
   "id": "d4a39f77",
   "metadata": {
    "execution": {
     "iopub.execute_input": "2023-07-19T16:53:30.242451Z",
     "iopub.status.busy": "2023-07-19T16:53:30.242063Z",
     "iopub.status.idle": "2023-07-19T16:53:30.247505Z",
     "shell.execute_reply": "2023-07-19T16:53:30.246402Z"
    },
    "papermill": {
     "duration": 0.034358,
     "end_time": "2023-07-19T16:53:30.250014",
     "exception": false,
     "start_time": "2023-07-19T16:53:30.215656",
     "status": "completed"
    },
    "tags": []
   },
   "outputs": [],
   "source": [
    "# Creating Dataframe of Actual vs Predicted Sales "
   ]
  },
  {
   "cell_type": "code",
   "execution_count": 55,
   "id": "3f723551",
   "metadata": {
    "execution": {
     "iopub.execute_input": "2023-07-19T16:53:30.303646Z",
     "iopub.status.busy": "2023-07-19T16:53:30.303209Z",
     "iopub.status.idle": "2023-07-19T16:53:30.316801Z",
     "shell.execute_reply": "2023-07-19T16:53:30.315652Z"
    },
    "papermill": {
     "duration": 0.043003,
     "end_time": "2023-07-19T16:53:30.319144",
     "exception": false,
     "start_time": "2023-07-19T16:53:30.276141",
     "status": "completed"
    },
    "tags": []
   },
   "outputs": [
    {
     "name": "stdout",
     "output_type": "stream",
     "text": [
      "Dataframe:\n"
     ]
    },
    {
     "data": {
      "text/html": [
       "<div>\n",
       "<style scoped>\n",
       "    .dataframe tbody tr th:only-of-type {\n",
       "        vertical-align: middle;\n",
       "    }\n",
       "\n",
       "    .dataframe tbody tr th {\n",
       "        vertical-align: top;\n",
       "    }\n",
       "\n",
       "    .dataframe thead th {\n",
       "        text-align: right;\n",
       "    }\n",
       "</style>\n",
       "<table border=\"1\" class=\"dataframe\">\n",
       "  <thead>\n",
       "    <tr style=\"text-align: right;\">\n",
       "      <th></th>\n",
       "      <th>Actual</th>\n",
       "      <th>Predicted</th>\n",
       "    </tr>\n",
       "  </thead>\n",
       "  <tbody>\n",
       "    <tr>\n",
       "      <th>95</th>\n",
       "      <td>16.9</td>\n",
       "      <td>16.408024</td>\n",
       "    </tr>\n",
       "    <tr>\n",
       "      <th>15</th>\n",
       "      <td>22.4</td>\n",
       "      <td>20.889882</td>\n",
       "    </tr>\n",
       "    <tr>\n",
       "      <th>30</th>\n",
       "      <td>21.4</td>\n",
       "      <td>21.553843</td>\n",
       "    </tr>\n",
       "    <tr>\n",
       "      <th>158</th>\n",
       "      <td>7.3</td>\n",
       "      <td>10.608503</td>\n",
       "    </tr>\n",
       "    <tr>\n",
       "      <th>128</th>\n",
       "      <td>24.7</td>\n",
       "      <td>22.112373</td>\n",
       "    </tr>\n",
       "  </tbody>\n",
       "</table>\n",
       "</div>"
      ],
      "text/plain": [
       "     Actual  Predicted\n",
       "95     16.9  16.408024\n",
       "15     22.4  20.889882\n",
       "30     21.4  21.553843\n",
       "158     7.3  10.608503\n",
       "128    24.7  22.112373"
      ]
     },
     "execution_count": 55,
     "metadata": {},
     "output_type": "execute_result"
    }
   ],
   "source": [
    "print (\"Dataframe:\")\n",
    "y_pred_test_df = pd.DataFrame({\"Actual\":y_test, \"Predicted\":y_pred_test})\n",
    "y_pred_test_df.head()"
   ]
  },
  {
   "cell_type": "code",
   "execution_count": 56,
   "id": "7e6c859d",
   "metadata": {
    "execution": {
     "iopub.execute_input": "2023-07-19T16:53:30.373449Z",
     "iopub.status.busy": "2023-07-19T16:53:30.373018Z",
     "iopub.status.idle": "2023-07-19T16:53:30.378282Z",
     "shell.execute_reply": "2023-07-19T16:53:30.377039Z"
    },
    "papermill": {
     "duration": 0.035406,
     "end_time": "2023-07-19T16:53:30.380689",
     "exception": false,
     "start_time": "2023-07-19T16:53:30.345283",
     "status": "completed"
    },
    "tags": []
   },
   "outputs": [],
   "source": [
    "# Thankyou"
   ]
  }
 ],
 "metadata": {
  "kernelspec": {
   "display_name": "Python 3",
   "language": "python",
   "name": "python3"
  },
  "language_info": {
   "codemirror_mode": {
    "name": "ipython",
    "version": 3
   },
   "file_extension": ".py",
   "mimetype": "text/x-python",
   "name": "python",
   "nbconvert_exporter": "python",
   "pygments_lexer": "ipython3",
   "version": "3.10.12"
  },
  "papermill": {
   "default_parameters": {},
   "duration": 22.475882,
   "end_time": "2023-07-19T16:53:31.530065",
   "environment_variables": {},
   "exception": null,
   "input_path": "__notebook__.ipynb",
   "output_path": "__notebook__.ipynb",
   "parameters": {},
   "start_time": "2023-07-19T16:53:09.054183",
   "version": "2.4.0"
  }
 },
 "nbformat": 4,
 "nbformat_minor": 5
}
